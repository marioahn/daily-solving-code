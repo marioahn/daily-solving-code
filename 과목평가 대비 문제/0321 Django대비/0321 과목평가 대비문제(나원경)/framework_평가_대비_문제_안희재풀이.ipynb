{
 "cells": [
  {
   "cell_type": "markdown",
   "id": "76102850",
   "metadata": {},
   "source": [
    "22.03.21 Framework 평가 대비 문제 (100점 만점)\n",
    "\n",
    "문제 제목은 노래 제목입니다. "
   ]
  },
  {
   "cell_type": "markdown",
   "id": "9692cc63",
   "metadata": {},
   "source": [
    "# 1 to 10 (서술형)\n",
    "\n",
    "다음에 대해 100자 이상 적어 설명하시오.(총 10점)"
   ]
  },
  {
   "cell_type": "markdown",
   "id": "650b6570",
   "metadata": {},
   "source": [
    "## CSRF (2점)"
   ]
  },
  {
   "cell_type": "markdown",
   "id": "613a8119",
   "metadata": {},
   "source": [
    "- 사이 간 요청 위조(Cross-site request forgery)\n",
    "\n",
    "- 웹 애플리케이션 취약점 중 하나로, 사용자가 자신의 의지와 무관하게 공격자가 의도한 행동을 하여 특정 웹페이지를 보안에 취약하게 하거나 수정, 삭제 등의 작업을 하게 만드는 공격 방법"
   ]
  },
  {
   "cell_type": "markdown",
   "id": "f6ce07fc",
   "metadata": {},
   "source": [
    "## CSRF에 대항해 Django에서 제공하는 두 가지 (각 2점, 4점)"
   ]
  },
  {
   "cell_type": "markdown",
   "id": "a65403d7",
   "metadata": {},
   "source": [
    "- middleward, template tag"
   ]
  },
  {
   "cell_type": "markdown",
   "id": "d79cb11d",
   "metadata": {},
   "source": [
    "## 동적 웹페이지 (2점)"
   ]
  },
  {
   "cell_type": "markdown",
   "id": "f62eb3b0",
   "metadata": {},
   "source": [
    "- 웹 페이지에 대한 요청을 받은 경우 서버는 추가적인 처리 과정 이후 클라이언트에게 응답을 보냄\n",
    "\n",
    "- 동적 페이지는 방문자와 상호작용하기 때문에 페이지 내용은 그때그때 다름\n",
    "\n",
    "- 서버 사이드 프로그래밍 언어(python, java, c++ 등)가 사용되며, 파일을 처리하고 데이터베이스와의 상호작용이 이루어짐"
   ]
  },
  {
   "cell_type": "markdown",
   "id": "c0ccaeb8",
   "metadata": {},
   "source": [
    "## ORM (2점)"
   ]
  },
  {
   "cell_type": "markdown",
   "id": "b29eff16",
   "metadata": {},
   "source": [
    "- 객체 지향 프로그래밍 언어를 사용하여 호환되지 않는 유형의 시스템 간에(Django -SQL)데이터를 변환하는 프로그래밍 기술\n",
    "- (즉, DB를 객체(object)로 조작하기 위해 ORM을 사용한다)\n",
    "\n",
    "- OOP 프로그래밍에서 RDBMS를 연동할 때, 데이터베이스와 객체 지향 프로그래밍 언어 간의 호환되지 않는 데이터를 변환하는 프로그래밍 기법\n",
    "\n",
    "- Django는 내장 Django ORM을 사용함"
   ]
  },
  {
   "cell_type": "markdown",
   "id": "475e7df9",
   "metadata": {},
   "source": [
    "# 나는 문제 없어 (객관식)\n",
    "\n",
    "\n",
    "Django와 관련된 다음 설명 중 옳지 않은 것을 고르시오. (각 2점, 총 8점)"
   ]
  },
  {
   "cell_type": "markdown",
   "id": "5fa72bf2",
   "metadata": {},
   "source": [
    "## "
   ]
  },
  {
   "cell_type": "markdown",
   "id": "0388b917",
   "metadata": {},
   "source": [
    "(1) 변수명은 숫자로 시작할 수 없어.\n",
    "\n",
    "(2) .을 이용해 변수 속성에 접근할 수 있어.\n",
    "\n",
    "(3) built-in template tag 중에는 여러 줄 주석을 표현할 수 있는 tag도 있어.\n",
    "\n",
    "(4) static은 built-in template tag에 속하지 않아."
   ]
  },
  {
   "cell_type": "markdown",
   "id": "1b2ba37d",
   "metadata": {},
   "source": [
    "정답 : (1)"
   ]
  },
  {
   "cell_type": "markdown",
   "id": "1eee0d89",
   "metadata": {},
   "source": [
    "## "
   ]
  },
  {
   "cell_type": "markdown",
   "id": "727a16a3",
   "metadata": {},
   "source": [
    "(1) render를 이용해 views.py에서 정의한 변수를 template 파일로 넘겨서 사용할 수 있다.\n",
    "\n",
    "(2) DTL은 프로그래밍적 로직이 아니라 프레젠테이션을 표현하기 위한 것이다.\n",
    "\n",
    "(3) 변수를 템플릿에서 쓰려면 반드시 render의 세 번째 인자에 딕셔너리 형태나 딕셔너리 구조의 변수를 써야 한다.\n",
    "\n",
    "(4) filter()는 표시할 변수를 수정할 때 사용한다."
   ]
  },
  {
   "cell_type": "markdown",
   "id": "ec77212d",
   "metadata": {},
   "source": [
    "정답 : (3)"
   ]
  },
  {
   "cell_type": "markdown",
   "id": "6bd8b483",
   "metadata": {},
   "source": [
    "## "
   ]
  },
  {
   "cell_type": "markdown",
   "id": "cb6bafcf",
   "metadata": {},
   "source": [
    "(1) DTL에서 ()는 사용할 수 없어.\n",
    "\n",
    "(2) TextField에서는 길이의 제한이 있는 문자열을 넣을 때 사용해.\n",
    "\n",
    "(3) 프로젝트 이름에 -은 쓸 수 없어.\n",
    "\n",
    "(4) application 명은 복수형으로 쓰는 것을 권장해."
   ]
  },
  {
   "cell_type": "markdown",
   "id": "f2fda2f7",
   "metadata": {},
   "source": [
    "정답 : (1)"
   ]
  },
  {
   "cell_type": "markdown",
   "id": "d706f931",
   "metadata": {},
   "source": [
    "## "
   ]
  },
  {
   "cell_type": "markdown",
   "id": "26a5e9cf",
   "metadata": {},
   "source": [
    "(1) 관리자 페이지에 로그인하기 위해서는 반드시 관리자 계정을 생성해야 해.\n",
    "\n",
    "(2) auth에 관련된 기본 테이블이 생성되지 않으면 관리자 계정을 생성할 수 없어.\n",
    "\n",
    "(3) 관리자 페이지에서 내가 만든 Model을 보기 위해서는 models.py에 작성해 Django 서버에 등록해야 해.\n",
    "\n",
    "(4) models.py에 정의한 _ _str_ _ 형태로 객체가 표현돼."
   ]
  },
  {
   "cell_type": "markdown",
   "id": "949513cb",
   "metadata": {},
   "source": [
    "정답 : (4)"
   ]
  },
  {
   "cell_type": "markdown",
   "id": "ae566264",
   "metadata": {},
   "source": [
    " "
   ]
  },
  {
   "cell_type": "markdown",
   "id": "1e9f435d",
   "metadata": {},
   "source": [
    "# 힘 내! (서술형)\n",
    "\n",
    "다음에 대해 100자 이상 서술하시오. (총 8점)"
   ]
  },
  {
   "cell_type": "markdown",
   "id": "a2b58069",
   "metadata": {},
   "source": [
    "## MTV pattern (3점)"
   ]
  },
  {
   "cell_type": "markdown",
   "id": "4b3cf043",
   "metadata": {},
   "source": [
    "- **Model** : 응용프로그램의 데이터 구조를 정의하고 데이터베이스의 기록을 관리(추가, 수정, 삭제)\n",
    "- **Template(view)** : 파일의 구조나 레이아웃을 정의 / 실제 내용을 보여주는 데 사용(presentation)\n",
    "- **View(Controller)** - 컨트롤 타워의 역할을 한다\n",
    "    - HTTP 요청을 수신하고 HTTP 응답을 반환\n",
    "    - Model을 통해 요청을 충족시키는데 필요한 데이터에 접근\n",
    "    - template에게 응답의 서식 설정을 맡김"
   ]
  },
  {
   "cell_type": "markdown",
   "id": "2f43f7e7",
   "metadata": {},
   "source": [
    "## HTTP, GET, POST (1점, 2점, 2점 총 5점)"
   ]
  },
  {
   "cell_type": "markdown",
   "id": "d78aeaf0",
   "metadata": {},
   "source": [
    "**(1)HTTP:** \n",
    " - 웹에서 이루어지는 모든 데이터 교환의 기초\n",
    " - 주어진 리소스가 수행 할 작업을 나타내는 request methods를 정의\n",
    "\n",
    "**(2)GET:**\n",
    "- 서버로부터 정보를 조회하는데 사용\n",
    "- 데이터를 가져올 때만 사용 가능\n",
    "\n",
    "\n",
    "\n",
    "**(3)POST:**\n",
    "- 서버로 데이터를 전송할 때 사용\n",
    "- 리소스를 생성/변경하기 위해 데이터를 HTTP body에 담아 전송\n",
    "- 서버에 변경사항을 만듦\n",
    "- CRUD에서 C/U/D역할을 담당\n",
    "\n",
    "---"
   ]
  },
  {
   "cell_type": "markdown",
   "id": "3435e9f7",
   "metadata": {},
   "source": [
    "# 내 머리가 나빠서 (주관식)\n",
    "\n",
    "평소 기억력이 좋지 않은 원경은 수업을 들은 후 django 이용하는 것에 익숙해지기 위해 복습을 하려고 한다. 초기설정(가상환경 설정부터 요청과 응답을 하기 전 단계)을 완료하기 위해 수행해야 할 과정과 터미널창에 입력해야 하는 명령어를 간단히 작성하라.\n",
    "\n",
    "(총 15점, 과정 설명 각 1점, 명령어 쓰기 각 1점)"
   ]
  },
  {
   "cell_type": "markdown",
   "id": "746e2139",
   "metadata": {},
   "source": [
    "**(현재 vs code가 열려있고 이 폴더에 requirements.txt, __init__.py, .gitignore가 존재한다. 현재 터미널은 켜져있는 상태이고, cd 명령어를 사용하지 않고 모든 작업을 진행하려고 한다. 프로젝트와 앱 이름은 자유롭게 설정한다.)**"
   ]
  },
  {
   "cell_type": "markdown",
   "id": "66d1dfd6",
   "metadata": {},
   "source": [
    "1. 가상환경 설정(생성,활성화)\n",
    "\n",
    "2. Django설치 ( + requirements.txt 설치 및 설치된 프로그램 확인 )\n",
    "\n",
    "3. 프로젝트 생성\n",
    "\n",
    "4. 앱 생성\n",
    "\n",
    "8. 프로젝트 폴더의 settings.py에 앱 등록 (INSTALLED_APPS에 'articles', 추가)"
   ]
  },
  {
   "cell_type": "markdown",
   "id": "844e1f03",
   "metadata": {},
   "source": [
    "(명령어 작성 - 각 1점, 총 7점)\n",
    "\n",
    "1. python -m venv venv\n",
    "\n",
    "2. source venv/Scripts/activate\n",
    "\n",
    "3. pip list (또는 venv 표시 확인)\n",
    "\n",
    "4. pip install -r requirements.txt\n",
    "\n",
    "5. django-admin startproject pjt .\n",
    "\n",
    "6. python manage.py startapp articles\n",
    "\n",
    "---"
   ]
  },
  {
   "cell_type": "markdown",
   "id": "de216b24",
   "metadata": {},
   "source": [
    "# 잊었니.... (단답형)\n",
    "\n",
    "HTML element에 대해 원경이 요약한 정리본에서 빈칸을 채우시오. (각 1점, 2번과 10점은 2가지 이상 작성, 총 10점)\n",
    "\n",
    "(no_5_forgotten.png를 참고)"
   ]
  },
  {
   "cell_type": "markdown",
   "id": "a9f30952",
   "metadata": {},
   "source": [
    "1. form\n",
    "\n",
    "2. text, button, checkbox, file, hidden, image, password, radio, reset, submit\n",
    "\n",
    "3. action\n",
    "\n",
    "4. method\n",
    "\n",
    "5. input\n",
    "\n",
    "6. name\n",
    "\n",
    "7. label\n",
    "\n",
    "8. id\n",
    "\n",
    "9. for\n",
    "\n",
    "10. button, input(hidden 타입 제외), select, textarea\n",
    "\n",
    "---"
   ]
  },
  {
   "cell_type": "markdown",
   "id": "a1eb930e",
   "metadata": {},
   "source": [
    "# 스트레스 (단답형)\n",
    "\n",
    "다음 설명에 대한 용어를 쓰시오. (각 1점, 총 10점)"
   ]
  },
  {
   "cell_type": "markdown",
   "id": "c3f2084c",
   "metadata": {},
   "source": [
    "**1. 웹 애플리케이션의 데이터를 구조화하고 조작하기 위한 도구 <br> <br> 2. 서버에 미리 저장된 파일이 사용자에게 그대로 전달되는 웹페이지 <br> <br>  3. 데이터를 조회하기 위한 명령어 <br> <br>  4. 대부분의 컴퓨터 소프트웨어가 가지는 기본적 데이터 처리 기능 <br>  <br> 5. 데이터베이스를 조작하기 위한 도구 <br> <br> 6. Django 모델에 데이터베이스 query 작업이 제공되는 인터페이스 <br> <br> 7. 데이터베이스로부터 전달받은 객체 목록 <br>  <br> 8. 프로그래밍에서 특정 운영 체제를 위한 응용 프로그램 표준 구조를 구현하는 클래스와 라이브러리 모임 <br> <br> 9. 각각의 object가 사람이 읽을 수 있는 문자열을 반환하도록 하는 method <br> <br> 10. 데이터베이스에서 자료의 구조, 표현방법, 관계 등을 정의한 구조**"
   ]
  },
  {
   "cell_type": "markdown",
   "id": "e8342f98",
   "metadata": {},
   "source": [
    "1. model\n",
    "\n",
    "2. Static web page [flat page, 정적 웹페이지]\n",
    "\n",
    "3. Query\n",
    "\n",
    "4. CRUD\n",
    "\n",
    "5. DB API\n",
    "\n",
    "6. Manager\n",
    "\n",
    "7. Queryset\n",
    "\n",
    "8. Framework\n",
    "\n",
    "9. str method(매직메소드 `__str__`)\n",
    "\n",
    "10. schema \n",
    "\n",
    "---"
   ]
  },
  {
   "cell_type": "markdown",
   "id": "fbfa6db8",
   "metadata": {},
   "source": [
    "# 답이 어딨어 (주관식)\n",
    "\n",
    "다음은 원경이 django를 이용해 웹페이지를 구성하기 위해 작성한 문서이다. 다음 물음에 답하시오. (총 10점)\n",
    "\n",
    "no_7_where.pdf 참고"
   ]
  },
  {
   "cell_type": "markdown",
   "id": "761911c4",
   "metadata": {},
   "source": [
    "1. admin 페이지에서는 오래된 항목이 아래에, 웹 페이지에서는 오래된 항목이 위에 (pdf 파일에서 각각 1,2 페이지) 있다. (정렬이 다름) 웹 페이지 상에서 최신 항목을 위에 두고 싶다면, 어느 파일에서 어느 부분을 어떻게 적어야 하는지 간단히 적으시오. (각 1점, 총 3점) <br> **models.py에서 정의된 class명은 Problem이고, 해당 페이지는 problems 앱의 index 함수, index.html을 통해 실행된다.**"
   ]
  },
  {
   "cell_type": "markdown",
   "id": "373835ee",
   "metadata": {},
   "source": [
    "```python\n",
    "정답 : views.py의 해당 페이지와 대응되는 함수에서 데이터를 받아올 때 정렬을 변경해준다. \n",
    "    예)\n",
    "    def index(request):\n",
    "    playlist = Playlist.objects.all()[::-1]\n",
    "    context = {\n",
    "        'playlist': playlist,\n",
    "    }\n",
    "    return render(request,'playlists/index.html', context)\n",
    "```"
   ]
  },
  {
   "cell_type": "markdown",
   "id": "882685b5",
   "metadata": {},
   "source": [
    "2. detail 페이지(pdf에서 3페이지)에는 static file을 이용해 이미지를 넣었다. static file을 사용하기 위해서는 detail.html에서 어떤 태그를\n",
    "사용해야 하는가? 어디에 위치해야 하는가?\n",
    "(사진 파일은 3.jpg를 사용한다. 태그 2가지, 태그와 위치 각 1점, 총 4점)"
   ]
  },
  {
   "cell_type": "markdown",
   "id": "05157611",
   "metadata": {},
   "source": [
    "정답 : {% load static %}는 extends 태그 아래, {% static 'problems/3.jpg' %}는 img 태그의 src 속성 안에 위치해야 함"
   ]
  },
  {
   "cell_type": "markdown",
   "id": "5fd8455d",
   "metadata": {},
   "source": [
    "3. admin 페이지 계정을 만들기 위한 명령어를 적으시오.(1점)"
   ]
  },
  {
   "cell_type": "markdown",
   "id": "06d4bbfe",
   "metadata": {},
   "source": [
    "정답 : python manage.py createsuperuser"
   ]
  },
  {
   "cell_type": "markdown",
   "id": "c63d5d32",
   "metadata": {},
   "source": [
    "4. 화면 상단의 내비게이션 바에 대한 내용은 _nav.html에 들어있다. 이를 base.html에서 사용하기 위해 어떤 태그를 사용해야 하는가?\n",
    "그 태그는 어디에 위치해야 하는가? (각 1점, 총 2점)"
   ]
  },
  {
   "cell_type": "markdown",
   "id": "d1c09f91",
   "metadata": {},
   "source": [
    "정답 : include 사용해야 하고 body 맨 위에 위치해야 함"
   ]
  },
  {
   "cell_type": "markdown",
   "id": "698071c8",
   "metadata": {},
   "source": [
    "---"
   ]
  },
  {
   "cell_type": "markdown",
   "id": "6c3be87b",
   "metadata": {},
   "source": [
    "# Music is my life (서술형)\n",
    "\n",
    "원경은 django를 이용해 웹페이지를 구성하기 위해 작성하며 같은 프로젝트 안에 앱을 하나 더 만들었다. 빈칸을 채우시오. (총 9점)\n",
    "\n",
    "no_8_music.pdf 참고"
   ]
  },
  {
   "cell_type": "markdown",
   "id": "eccab26f",
   "metadata": {},
   "source": [
    "(1) 2페이지의 수정 페이지와 3페이지의 models.py 내용을 참고해 views.py 함수의 빈칸을 채우시오. (3단계, 각각 1점, 2점, 1점, 총 4점)"
   ]
  },
  {
   "cell_type": "markdown",
   "id": "f80ad25a",
   "metadata": {},
   "source": [
    "```python\n",
    "정답 : (앞의 숫자는 단계를 나타냄)\n",
    "    1. playlist = Playlist.objects.get(pk=pk)\n",
    "    2. playlist.title = request.POST.get('title')\n",
    "       playlist.singer = request.POST.get('singer')\n",
    "       playlist.album = request.POST.get('album')\n",
    "       playlist.lyrics = request.POST.get('lyrics')\n",
    "    3. playlist.save()\n",
    "```"
   ]
  },
  {
   "cell_type": "markdown",
   "id": "9faf316e",
   "metadata": {},
   "source": [
    "(2) base.html을 이용해 내비게이션 바와 부트스트랩 적용을 상속받으려고 한다. 이때, 어떤 태그를 사용해야 하는가? 어느 파일에 사용해야 하는가? <br> 어디에 위치해야 하는가? (각 1점, 총 3점)"
   ]
  },
  {
   "cell_type": "markdown",
   "id": "e99857ee",
   "metadata": {},
   "source": [
    "정답 : extends 태그를 html 파일에 사용해야 함, 문서의 최상단에 위치해야 함"
   ]
  },
  {
   "cell_type": "markdown",
   "id": "6699a8c4",
   "metadata": {},
   "source": [
    "(3) 4페이지는 admin.py의 내용이다. Playlist의 내용을 admin 사이트에서 보고 싶으면 빈칸에 어떻게 적어야 하는가? (각 1점, 총 2점)"
   ]
  },
  {
   "cell_type": "markdown",
   "id": "d1c61894",
   "metadata": {},
   "source": [
    "정답 : admin.ModelAdmin, admin.site.register(Playlist)"
   ]
  },
  {
   "cell_type": "markdown",
   "id": "e69f2844",
   "metadata": {},
   "source": [
    "---- "
   ]
  },
  {
   "cell_type": "markdown",
   "id": "23b387a7",
   "metadata": {},
   "source": [
    "# Error (주관식)\n",
    "\n",
    "원경이는 열심히 코드를 작성했지만 아쉽게도 오류가 많은 코드를 작성했다. 오류를 찾고 그 이유에 대해 간단히 설명하시오. (10가지, 각 1점)\n",
    "\n",
    "(no_9_Error.pdf의 사진 및 코드 참고) (주어지지 않은 파일에서는 오류가 없다.)"
   ]
  },
  {
   "cell_type": "markdown",
   "id": "7cf6a3fa",
   "metadata": {},
   "source": [
    "```python\n",
    "# 구조\n",
    "1. 앱 폴더 안에 templates 폴더를 만들어야 하는데 프로젝트 폴더 안에 templates 폴더가 있다.\n",
    "# urls.py 문제\n",
    "2. end slash가 없다. (이름으로 접근할 때는 end slash 없어도 오류 안 뜨는 경우도 있지만, 이 경우에는 오류 뜰 것 같음)\n",
    "3. app_name과 url의 이름이 없다\n",
    "4. from . import views가 없다.\n",
    "5. index() -> index, detail() -> detail (소괄호가 없어야 함)\n",
    "# base.html\n",
    "6. 블록 설정을 하지 않아 오버라이드할 수 없다.\n",
    "# views.py\n",
    "7. request를 인자로 받지 않았다. (또는 필수로 인자를 하나 받아야 하는데 받지 않음)\n",
    "8. render를 사용하지 않았다.\n",
    "# index.html\n",
    "9. 변수 사용 시 {{}}해줘야 하고 errors는 context의 속성이 아니므로 context.errors로 접근 불가 ({{errors}}로 해줘야 함)\n",
    "10. include가 아니라 extends를 해줘야 함\n",
    "```"
   ]
  },
  {
   "cell_type": "markdown",
   "id": "ad9bdd1c",
   "metadata": {},
   "source": [
    "--- "
   ]
  },
  {
   "cell_type": "markdown",
   "id": "93750e71",
   "metadata": {},
   "source": [
    "#  끝 (서술형)\n",
    "\n",
    "다음에 대해 간단히 설명하시오. (각 2점, 총 10점)"
   ]
  },
  {
   "cell_type": "markdown",
   "id": "7c0f4f33",
   "metadata": {},
   "source": [
    "## variable routing "
   ]
  },
  {
   "cell_type": "markdown",
   "id": "0056124a",
   "metadata": {},
   "source": [
    "- url 주소를 변수로 사용하는 것을 말하며, 이를 이용해 url의 일부를 변수로 지정해 view 함수로 넘길 수 있다. 변수 값에 따라 하나의 path()\n",
    "에 여러 페이지를 연결시킬 수 있다. <>안에 변수명을 넣고 변수의 형식을 지정할 수도 있다. views.py에서는 인자를 하나 더 받아야 한다."
   ]
  },
  {
   "cell_type": "markdown",
   "id": "60f69ddc",
   "metadata": {},
   "source": [
    "## app url mapping"
   ]
  },
  {
   "cell_type": "markdown",
   "id": "4a4cb8e9",
   "metadata": {},
   "source": [
    "- app에서 view함수가 많아지면서 사용하는 path()가 많아지고 app 또한 많이 작성되기 때문에 프로젝트의 urls.py에서 모두 관리하는 것은\n",
    "프로젝트 유지 보수에 좋지 않음\n",
    "각 app에 urls.py를 작성한 후 project의 urls.py에서 include를 이용 - include()'articles/urls')\n",
    "include()"
   ]
  },
  {
   "cell_type": "markdown",
   "id": "32508795",
   "metadata": {},
   "source": [
    "## naming url patterns"
   ]
  },
  {
   "cell_type": "markdown",
   "id": "293399f8",
   "metadata": {},
   "source": [
    "- 링크에 url을 직접 작성하는 게 아니라 path()함수의 name을 사용할 수 있음\n",
    "url 설정이 정의된 특정 경로들의 의존성을 제거할 수 있음\n",
    "url template tag를 사용\n",
    "주어진 url 패턴 이름 및 선택적 매개 변수와 일치하는 절대 경로 주소를 반환\n",
    "템플릿에 url을 하드코딩하지 않고도 dry 원칙을 위반하지 않으면서 링크를 출력하는 방법"
   ]
  },
  {
   "cell_type": "markdown",
   "id": "e2adf742",
   "metadata": {},
   "source": [
    "## url namespace"
   ]
  },
  {
   "cell_type": "markdown",
   "id": "a43e5f2a",
   "metadata": {},
   "source": [
    "- 서로 다른 앱에서 동일한 url 이름을 사용하는 경우, app_name attribute를 작성해 이름이 지정된 url을 고유하게 사용할 수 있음\n",
    "urls.py에 app_name attribute를 작성하고 이를 사용할 때는 url 태그 안에 app_name:url_name 형식으로 사용"
   ]
  },
  {
   "cell_type": "markdown",
   "id": "e9e074d7",
   "metadata": {},
   "source": [
    "## templates namespace"
   ]
  },
  {
   "cell_type": "markdown",
   "id": "510f2502",
   "metadata": {},
   "source": [
    "- Django는 기본적으로 app_name/templates/ 경로에 있는 templates 파일들만 찾을 수 있으며, INSTALLED_APPS에 작성한 app 순서로 template을 검색\n",
    "후 렌더링함\n",
    "임의로 templates 폴더 구조를 app_name/templates/app_name 형태로 변경해 임의로 이름 공간 생성 후 변경된 추가 경로 작성"
   ]
  }
 ],
 "metadata": {
  "kernelspec": {
   "display_name": "Python 3 (ipykernel)",
   "language": "python",
   "name": "python3"
  },
  "language_info": {
   "codemirror_mode": {
    "name": "ipython",
    "version": 3
   },
   "file_extension": ".py",
   "mimetype": "text/x-python",
   "name": "python",
   "nbconvert_exporter": "python",
   "pygments_lexer": "ipython3",
   "version": "3.10.2"
  },
  "toc": {
   "base_numbering": 1,
   "nav_menu": {},
   "number_sections": true,
   "sideBar": true,
   "skip_h1_title": false,
   "title_cell": "Table of Contents",
   "title_sidebar": "Contents",
   "toc_cell": false,
   "toc_position": {},
   "toc_section_display": true,
   "toc_window_display": false
  }
 },
 "nbformat": 4,
 "nbformat_minor": 5
}
